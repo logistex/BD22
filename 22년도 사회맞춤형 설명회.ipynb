{
 "cells": [
  {
   "cell_type": "markdown",
   "id": "4a552aee",
   "metadata": {
    "slideshow": {
     "slide_type": "slide"
    }
   },
   "source": [
    "![cover](https://user-images.githubusercontent.com/10287629/146944180-54459a37-d922-4c2e-b2de-5cc7e955863f.png)\n",
    "\n",
    "<div style=\"page-break-after: always;\"></div>"
   ]
  },
  {
   "cell_type": "markdown",
   "id": "15487cdd",
   "metadata": {
    "slideshow": {
     "slide_type": "slide"
    }
   },
   "source": [
    "## 1. 사회맞춤형 교육의 이해\n",
    "\n",
    "![사맞춤 비전](https://user-images.githubusercontent.com/10287629/142717588-0a3fb376-aed1-4dbc-98d0-ed59569d60af.png)\n",
    "\n",
    "<div style=\"page-break-after: always;\"></div> "
   ]
  },
  {
   "cell_type": "markdown",
   "id": "14194635",
   "metadata": {
    "slideshow": {
     "slide_type": "slide"
    }
   },
   "source": [
    "## 2. 교육 패러다임의 변화\n",
    "\n",
    "- 기존 일반 교육 과정에서는 학생이 취업하는 과정에 대한 관리 개념이 부족하였음\n",
    "  - 교수는 좋은 강의를 제공\n",
    "  - 학습 및 취업은 학생의 책임\n",
    "  - 방기(放棄): 강의 후, 취업 과정을 돌보지 않고 내버려 둠\n",
    "\n",
    "- 사회수요맞춤형 교육 과정에서는 아래와 같은 개념으로 운영\n",
    "    - \"*방기에서 **입도선매**를 넘어, **JNA**로*\"\n",
    "    - 입도선매(立稻先賣): 산업체로부터 취업 약정을 받고 교육을 진행\n",
    "    - 공동설계: 산업체와 학과가 교육과정을 공동 설계\n",
    "    - 공동운영: 산업체와 학과가 교육과정을 공동 운영\n",
    "      - JNA(joint nuture area, 공동양육구역)\n",
    "      - nuture[ˈnɝː.tʃɚ]:  \n",
    "        to take care of, feed, and protect young children,  \n",
    "        and help them to develop\n",
    "       \n",
    "<div style=\"page-break-after: always;\"></div>        "
   ]
  },
  {
   "cell_type": "markdown",
   "id": "ab57d196",
   "metadata": {
    "slideshow": {
     "slide_type": "slide"
    }
   },
   "source": [
    "## 3. 사회맞춤형 교육의 개념 \n",
    "\n",
    "![전략](https://user-images.githubusercontent.com/10287629/146935560-165ce43c-9cc3-44c1-960c-34395a6c370e.png)\n",
    "\n",
    "<div style=\"page-break-after: always;\"></div> "
   ]
  },
  {
   "cell_type": "markdown",
   "id": "6d4db9d9",
   "metadata": {
    "slideshow": {
     "slide_type": "slide"
    }
   },
   "source": [
    "## 4. 참여 기업의 약정 사항\n",
    "\n",
    "- 적정한 수준으로 과정을 이수한 학생을  \n",
    "  우선적으로 채용하기로 약정\n",
    "- 입도선매(立稻先賣):\"논에 서 있는 벼를 미리 판다.\"\n",
    "  - 학과 교수에 대한 신뢰\n",
    "  - 학과 교육에 대한 신뢰\n",
    "  - 학과 선배에 대한 신뢰\n",
    "  \n",
    "<div style=\"page-break-after: always;\"></div>   "
   ]
  },
  {
   "cell_type": "markdown",
   "id": "8ffbe31b",
   "metadata": {
    "slideshow": {
     "slide_type": "slide"
    }
   },
   "source": [
    "## 5. 2021학년도 실적\n",
    "\n",
    "![list1](https://user-images.githubusercontent.com/10287629/146946240-030fcc8a-1c68-4551-a8c0-39f5f3e622fd.png)\n",
    "\n",
    "<div style=\"page-break-after: always;\"></div> "
   ]
  },
  {
   "cell_type": "markdown",
   "id": "4b09c016",
   "metadata": {
    "slideshow": {
     "slide_type": "subslide"
    }
   },
   "source": [
    "![list2](https://user-images.githubusercontent.com/10287629/146946244-e2c6a991-447f-47d6-b536-60ef5bfd2c30.png)\n",
    "\n",
    "<div style=\"page-break-after: always;\"></div> "
   ]
  },
  {
   "cell_type": "markdown",
   "id": "a2305ca2",
   "metadata": {
    "slideshow": {
     "slide_type": "subslide"
    }
   },
   "source": [
    "![협약업체사진모음](https://user-images.githubusercontent.com/10287629/142717729-a20bca63-3137-41c2-8dff-091b4b712b7a.png)\n",
    "\n",
    "<div style=\"page-break-after: always;\"></div> "
   ]
  },
  {
   "cell_type": "markdown",
   "id": "2d956d3d",
   "metadata": {
    "slideshow": {
     "slide_type": "subslide"
    }
   },
   "source": [
    "- 평균 연봉: 2,841.4 만원 \n",
    "\n",
    "![사맞춤 채용조건](https://user-images.githubusercontent.com/10287629/142717836-bdd5e33b-5235-42ed-93c8-8b273def4e81.png)\n",
    "\n",
    "<div style=\"page-break-after: always;\"></div> "
   ]
  },
  {
   "cell_type": "markdown",
   "id": "bc6d581b",
   "metadata": {
    "slideshow": {
     "slide_type": "slide"
    }
   },
   "source": [
    "## 6. 2022학년도 운영 계획\n",
    "\n",
    "- 2022학년도 산업체 참여 자격\n",
    "    - 인원 규모: 상시근로자 5인 이상\n",
    "    - 신용 등급: B 등급 이상\n",
    "    - 우대 인증: 정부 인증, 지자체 인증, 우수기업 인증\n",
    "- 2022학년도 학생 지원 자격\n",
    "    - 한양여자대학교 스마트IT과 및 소프트웨어융합과 졸업 예정자\n",
    "    - 취업에 대한 의지가 확실하며, 사회맞춤형 교육과정을 성실하게 이수하려는 자\n",
    "    - 4개 학기 평균 평점 3.0 이상이거나 또는 직전 학기(2학년 2학기) 평점 3.5 이상인 자\n",
    "    - 성적 기준에 미달하더라도 지도교수 추천을 통하여 지원 가능함\n",
    "    - 고용보험 가입자나 개인사업자로 등록되어 있으면 지원 불가함  \n",
    "      (고용보험 가입자는 연수 시작 전 고용보험 해지 필수)\n",
    "      \n",
    "<div style=\"page-break-after: always;\"></div>       "
   ]
  },
  {
   "cell_type": "markdown",
   "id": "2ff52cd5",
   "metadata": {
    "slideshow": {
     "slide_type": "subslide"
    }
   },
   "source": [
    "- **데이터 과학** 사회맞춤형 교육 과정\n",
    "\n",
    "<img src=\"https://user-images.githubusercontent.com/10287629/147037195-063dcb02-b16a-466a-962e-7209e4917c74.png\" width=\"110%\">  \n",
    "<div style=\"page-break-after: always;\"></div>     "
   ]
  },
  {
   "cell_type": "markdown",
   "id": "9bdf3f0f",
   "metadata": {
    "slideshow": {
     "slide_type": "subslide"
    }
   },
   "source": [
    "- JNA 운영 방안\n",
    "  - 교육과정 공동 설계\n",
    "    - 직무 요건 공동 정의\n",
    "    - 과목 편성 공동 설계\n",
    "  - 교육과정 공동 운영\n",
    "    - 학생 선발 공동 참여\n",
    "    - **산업체 전문가**가 (일부) 과목에 대한 강의를 담당\n",
    "    - 산업체마다 RFD(캡스톤디자인 주제)를 개발 및 정의하여 학과에 제공\n",
    "    - 캡스톤디자인 과목에서 산업체의 **RFD**에 대한 작품 설계 및 구현을 진행\n",
    "    - 학생들은 캡스톤디자인 단계 산출물 및 포트폴리오를 온라인 저장소에 등록\n",
    "    - 산업체는 캡스톤디자인 단계 산출물에 대한 검토 및 **지도**를 진행\n",
    "    - 교육과정 이수에 따른 과제 평가 내역 및 성적 정보를 산업체에 제공  \n",
    "      (학생 선발 과정에서 '정보제공동의서' 제출 및 보관)\n",
    "    - 캡스톤디자인 완성 작품을 **온라인 전시** 및 채용 평가 자료로 활용\n",
    "    - 취업한 **선배**들의 멘토링\n",
    "\n",
    "<div style=\"page-break-after: always;\"></div>  "
   ]
  },
  {
   "cell_type": "markdown",
   "id": "dd7e008d",
   "metadata": {
    "slideshow": {
     "slide_type": "subslide"
    }
   },
   "source": [
    "- 선발 및 운영\n",
    "    - **빅데이터과에서 개설**하고 IT 계열 학과 졸업예정자를 대상으로 운영\n",
    "      - 소속 학과 3학년 교육 과정 대신 **데이터 과학 사회맞춤형 교육 과정**을 이수\n",
    "      - 소속 학과 졸업 작품은 사회맞춤형 과정의 **캡스톤 디자인 작품**으로 대체\n",
    "    - 사회맞춤형 지원 학생에 대한 **선발**\n",
    "      - 서류 전형 (성적 및 소개서/지원서 평가)\n",
    "      - 면접 전형 (산업체 인사들로 면접 위원단 구성)\n",
    "      - 30명 수준으로 별도 학급 편성\n",
    "    - **선택적 과목 수강 불가능**\n",
    "      - 정부 및 대학의 지원금으로 진행되는 교육 과정으로서  \n",
    "        과정 전체에 참여한다는 전제 하에 자금이 지원되어 운영되는 교육 과정\n",
    "      - 산업체와 공동 설계한 교육 과정으로서  \n",
    "        과정 전체를 수료한다는 전제 하에 채용을 약정하여 운영되는 교육 과정    \n",
    "        \n",
    "<div style=\"page-break-after: always;\"></div>         "
   ]
  },
  {
   "cell_type": "markdown",
   "id": "bef091b3",
   "metadata": {
    "slideshow": {
     "slide_type": "subslide"
    }
   },
   "source": [
    "- **취업 탐색 지원**\n",
    "  - 취업 의식 고취 특강 \n",
    "  - 취업 불안감 해소 상담\n",
    "  - 취업 대상 업체 소개 특강\n",
    "  - 취업 목표 업체 설정 지도\n",
    "  - 취업 준비 상황 점검 및 상담\n",
    "- **취업 성공 지원**\n",
    "  - 현장 실습 지원 장학금\n",
    "  - 취업 성공 선배의 경험 공유\n",
    "  - 취업 성공 요인 특강\n",
    "  - 입사지원서 작성 특강 및 개별 지도\n",
    "  - 기술/인성 모의 면접 및 보완점 지도\n",
    "  - 취업 준비 상황 점검 및 개별 지도\n",
    "  \n",
    "<div style=\"page-break-after: always;\"></div>  "
   ]
  },
  {
   "cell_type": "markdown",
   "id": "33754fae",
   "metadata": {
    "slideshow": {
     "slide_type": "subslide"
    }
   },
   "source": [
    "- **취업 탐색/성공 지도** 주차별 일정\n",
    "\n",
    "![weeklyplan](https://user-images.githubusercontent.com/10287629/147039064-3032d7a3-4afc-43ca-8be5-ab2f1f4ae582.png)\n",
    "\n",
    "<div style=\"page-break-after: always;\"></div>"
   ]
  },
  {
   "cell_type": "markdown",
   "id": "bbe41247",
   "metadata": {
    "slideshow": {
     "slide_type": "subslide"
    }
   },
   "source": [
    "- 준비 사항\n",
    "  - 사회맞춤형 온라인 컨텐츠 관리 시스템\n",
    "    - 내용\n",
    "      - 과정 홍보 자료\n",
    "      - 참여 업체 현황 및 채용 자료\n",
    "      - 참여 업체 RFD 자료\n",
    "      - 학생/팀 단계 산출물 및 포트폴리오 자료\n",
    "      - 캡스톤디자인 전시 자료\n",
    "      - 방명록 및 게시판\n",
    "      - 상담 예약 기능\n",
    "      - 지원 및 채용 현황 자료\n",
    "    - 클라우드 시스템으로 개발 및 운영\n",
    "  - JetBrain 라이센스 서버 및 Java 클라우드 서버 지원 \n",
    "\n",
    "<div style=\"page-break-after: always;\"></div>"
   ]
  },
  {
   "cell_type": "markdown",
   "id": "357d975c",
   "metadata": {
    "slideshow": {
     "slide_type": "subslide"
    }
   },
   "source": [
    "- **캡스톤디자인** 지원 \n",
    "  - 산업체 주제 및 아이디어 제공\n",
    "  - 산업체 전문가 직접 강의 담당\n",
    "  - 산업체 전문가 멘토링 지원\n",
    "  - 경진대회 개최 및 장학금 시상\n",
    "  - 공모전 참여 지도 및 장려금 지원\n",
    "- 대면 및 **실시간 줌** 수업 적극 확대\n",
    "  - 녹화 동영상 수업은 지양\n",
    "  - 대면 또는 실시간 줌 수업 원칙 \n",
    "  - 코로나 방역 지침을 준수하는 범위에서 시행\n",
    "- 자격증\n",
    "  - ADsP \n",
    "  - 방학 중 자격증 취득 특강\n",
    "- 하계 현장실습 \n",
    "  - 참여 업체 우선 배정\n",
    "  - 필수 의무 사항  \n",
    "  \n",
    "<div style=\"page-break-after: always;\"></div>   "
   ]
  },
  {
   "cell_type": "markdown",
   "id": "42f368fc",
   "metadata": {
    "slideshow": {
     "slide_type": "subslide"
    }
   },
   "source": [
    "- 주요 일정\n",
    "\n",
    "<img src=\"https://user-images.githubusercontent.com/10287629/144234408-f9f4e629-90fe-4f55-9e0f-0497749a0d8f.png\" width=\"70%\">\n",
    "\n",
    "<div style=\"page-break-after: always;\"></div> "
   ]
  },
  {
   "cell_type": "markdown",
   "id": "13ed2a0c",
   "metadata": {
    "slideshow": {
     "slide_type": "subslide"
    }
   },
   "source": [
    "- 2022학년도 서약서 및 지원서 양식\n",
    "\n",
    "![사맞춤 지원양식2](https://user-images.githubusercontent.com/10287629/144347391-0eaa1dcb-2862-4300-ab6a-ffb4b89f3653.png)\n",
    "\n",
    "<div style=\"page-break-after: always;\"></div> "
   ]
  },
  {
   "cell_type": "markdown",
   "id": "4132e1c2",
   "metadata": {
    "slideshow": {
     "slide_type": "slide"
    }
   },
   "source": [
    "## 7. 결론\n",
    "\n",
    "- 취업의 의의\n",
    "  - 전문대학교 존재의 이유\n",
    "  - 코로나 상황에서 취업의 어려움\n",
    "  - IT 분야에서 취업의 의의\n",
    "    - IT 분야 취업 시장은 경력자 중심 시장\n",
    "    - 사회 초년생으로서는 일단 취업해야 경력 구축이 가능함\n",
    "- 올해 연말 즈음에 대한 상상\n",
    "   - 종강하기도 전에 취업 확정\n",
    "   - 역세권 회사에 출근\n",
    "   - 3천만<sup>+</sup>원 넘는 연봉\n",
    "- 시험대 위에 올라 선 우리\n",
    "  - 행운을 기원\n",
    "  - \"물 들어올 때, 노를 젓자!\"\n",
    "\n",
    "- \"**당신의 지원을 기대합니다!**\" \n",
    "- \"**책임지고 취업하도록 돕겠습니다!**\"\n",
    "\n",
    "<div style=\"page-break-after: always;\"></div> "
   ]
  }
 ],
 "metadata": {
  "celltoolbar": "Slideshow",
  "kernelspec": {
   "display_name": "Python 3 (ipykernel)",
   "language": "python",
   "name": "python3"
  },
  "language_info": {
   "codemirror_mode": {
    "name": "ipython",
    "version": 3
   },
   "file_extension": ".py",
   "mimetype": "text/x-python",
   "name": "python",
   "nbconvert_exporter": "python",
   "pygments_lexer": "ipython3",
   "version": "3.8.11"
  },
  "latex_envs": {
   "LaTeX_envs_menu_present": true,
   "autoclose": false,
   "autocomplete": true,
   "bibliofile": "biblio.bib",
   "cite_by": "apalike",
   "current_citInitial": 1,
   "eqLabelWithNumbers": true,
   "eqNumInitial": 1,
   "hotkeys": {
    "equation": "Ctrl-E",
    "itemize": "Ctrl-I"
   },
   "labels_anchors": false,
   "latex_user_defs": false,
   "report_style_numbering": false,
   "user_envs_cfg": false
  },
  "toc": {
   "base_numbering": 1,
   "nav_menu": {},
   "number_sections": false,
   "sideBar": true,
   "skip_h1_title": true,
   "title_cell": "Table of Contents",
   "title_sidebar": "Contents",
   "toc_cell": false,
   "toc_position": {
    "height": "calc(100% - 180px)",
    "left": "10px",
    "top": "150px",
    "width": "165px"
   },
   "toc_section_display": true,
   "toc_window_display": true
  },
  "varInspector": {
   "cols": {
    "lenName": 16,
    "lenType": 16,
    "lenVar": 40
   },
   "kernels_config": {
    "python": {
     "delete_cmd_postfix": "",
     "delete_cmd_prefix": "del ",
     "library": "var_list.py",
     "varRefreshCmd": "print(var_dic_list())"
    },
    "r": {
     "delete_cmd_postfix": ") ",
     "delete_cmd_prefix": "rm(",
     "library": "var_list.r",
     "varRefreshCmd": "cat(var_dic_list()) "
    }
   },
   "types_to_exclude": [
    "module",
    "function",
    "builtin_function_or_method",
    "instance",
    "_Feature"
   ],
   "window_display": false
  }
 },
 "nbformat": 4,
 "nbformat_minor": 5
}
