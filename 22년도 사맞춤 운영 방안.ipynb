{
 "cells": [
  {
   "cell_type": "markdown",
   "metadata": {
    "collapsed": true,
    "pycharm": {
     "name": "#%% md\n"
    }
   },
   "source": [
    "# 2022 학년도 사회맞춤형 운영 방안\n"
   ]
  },
  {
   "cell_type": "markdown",
   "metadata": {},
   "source": [
    "- 운영 개념\n",
    "  - 기존에는 교수의 강의 후 학생이 취업하는 과정에 대한 관리 개념이 부족하였음\n",
    "  - 향후에는 아래와 같은 개념으로 운영\n",
    "    - \"*방기에서 **입도선매**를 넘어, **JNA**로*\"\n",
    "    - 방기(放棄): 강의 후, 취업 과정을 돌보지 않고 내버려 둠\n",
    "    - 입도선매(立稻先賣): 산업체로부터 취업 약정을 받고 교육을 진행\n",
    "    - 공동설계: 산업체와 학과가 교육과정을 공동 설계\n",
    "    - 공동운영: 산업체와 학과가 교육과정을 공동 운영\n",
    "      - JNA(joint nuture area, 공동양육구역)\n",
    "      - nuture[ˈnɝː.tʃɚ]:  \n",
    "        to take care of, feed, and protect young children,  \n",
    "        and help them to develop"
   ]
  },
  {
   "cell_type": "markdown",
   "metadata": {},
   "source": [
    "- JNA 운영 방안\n",
    "  - 교육과정 공동 설계\n",
    "    - 직무 요건 공동 정의\n",
    "    - 과목 편성 공동 설계\n",
    "  - 교육과정 공동 운영\n",
    "    - 학생 선발 공동 참여\n",
    "    - 산업체 전문가가 (일부) 과목에 대한 강의를 담당\n",
    "    - 산업체마다 RFD(캡스톤디자인 제안 요청)를 개발 및 정의하여 학과에 제공\n",
    "    - 캡스톤디자인 과목에서 산업체의 RFD에 대한 작품 설계 및 구현을 진행\n",
    "    - 학생들은 캡스톤디자인 단계 산출물 및 포트폴리오를 온라인 저장소에 등록\n",
    "    - 산업체는 캡스톤디자인 단계 산출물에 대한 평가 및 지도를 진행\n",
    "    - 교육과정 이수에 따른 과제 평가 내역 및 성적 정보를 산업체에 제공  \n",
    "      (학생 선발 과정에서 '정보제공동의서' 제출 및 보관)\n",
    "    - 캡스톤디자인 완성 작품을 온라인 전시"
   ]
  },
  {
   "cell_type": "markdown",
   "metadata": {},
   "source": [
    "- 1학기 취업 탐색 지도 주차별 일정\n",
    "  1. 오리엔테이션\n",
    "  1. 취업 마인드 특강\n",
    "  1. IT 취업 특강\n",
    "  1. 선배(2 인) 특강 및 간담회\n",
    "  1. 포트폴리오 준비 특강\n",
    "  1. 업체 특강\n",
    "  1. 업체 특강\n",
    "  1. **중간고사**\n",
    "  1. 업체 특강\n",
    "  1. 업체 특강\n",
    "  1. 선배(2 인) 특강 및 간담회\n",
    "  1. 입사 지원 특강\n",
    "  1. 모의 면접  \n",
    "  1. IT 취업 특강\n",
    "  1. 보강 주간\n",
    "  1. **기말고사**\n"
   ]
  },
  {
   "cell_type": "markdown",
   "metadata": {},
   "source": [
    "- 2학기 취업 성공 지도 주차별 일정\n",
    "  1. 오리엔테이션\n",
    "  1. 취업 준비 점검 특강\n",
    "  1. IT 취업 특강\n",
    "  1. 선배(2 인) 특강 및 간담회\n",
    "  1. 포트폴리오 점검 특강\n",
    "  1. 업체 특강\n",
    "  1. 업체 특강\n",
    "  1. 업체 특강\n",
    "  1. **중간고사**\n",
    "  1. 업체 특강\n",
    "  1. 입사 지원 특강\n",
    "  1. 모의 면접\n",
    "  1. 선배(2 인) 특강 및 간담회\n",
    "  1. IT 취업 특강\n",
    "  1. 보강 주간\n",
    "  1. **기말고사**"
   ]
  },
  {
   "cell_type": "markdown",
   "metadata": {},
   "source": [
    "- 준비 사항\n",
    "  - 사회맞춤형 온라인 컨텐츠 관리 시스템\n",
    "    - 내용\n",
    "      - 과정 홍보 자료\n",
    "      - 과정 지원/선발 자료\n",
    "      - 참여 업체 현황 및 채용 자료\n",
    "      - 참여 업체 RFD 자료\n",
    "      - 학생/팀 단계 산출물 자료\n",
    "      - 학생/팀 포트폴리오 자료\n",
    "      - 학생/팀 평가 자료\n",
    "      - 캡스톤디자인 전시 자료\n",
    "      - 방명록 및 게시판\n",
    "      - 상담 예약 기능\n",
    "      - 지원 및 채용 현황 자료\n",
    "    - 사용자 그룹\n",
    "      - 과정 운영 교수\n",
    "      - 과정 참여 업체\n",
    "      - 과정 참여 학생/팀\n",
    "      - 외부인\n",
    "    - 클라우드 시스템으로 개발 및 운영\n",
    "  - JetBrain 라이센스 서버"
   ]
  },
  {
   "cell_type": "markdown",
   "metadata": {},
   "source": [
    "- 자격증\n",
    "  - ADsP \n",
    "  - 방학 중 자격증 취득 특강"
   ]
  },
  {
   "cell_type": "markdown",
   "metadata": {},
   "source": [
    "- 하계 현장실습 \n",
    "  - 참여 업체 우선 배정\n",
    "  - 준 필수"
   ]
  },
  {
   "cell_type": "markdown",
   "metadata": {},
   "source": [
    "- 예산(안) 작성"
   ]
  },
  {
   "cell_type": "markdown",
   "metadata": {},
   "source": [
    "- 취업 탐색/성공 지도 과목을 1학점에서 2학점으로 수정"
   ]
  }
 ],
 "metadata": {
  "kernelspec": {
   "display_name": "Python 3 (ipykernel)",
   "language": "python",
   "name": "python3"
  },
  "language_info": {
   "codemirror_mode": {
    "name": "ipython",
    "version": 3
   },
   "file_extension": ".py",
   "mimetype": "text/x-python",
   "name": "python",
   "nbconvert_exporter": "python",
   "pygments_lexer": "ipython3",
   "version": "3.8.11"
  },
  "latex_envs": {
   "LaTeX_envs_menu_present": true,
   "autoclose": false,
   "autocomplete": true,
   "bibliofile": "biblio.bib",
   "cite_by": "apalike",
   "current_citInitial": 1,
   "eqLabelWithNumbers": true,
   "eqNumInitial": 1,
   "hotkeys": {
    "equation": "Ctrl-E",
    "itemize": "Ctrl-I"
   },
   "labels_anchors": false,
   "latex_user_defs": false,
   "report_style_numbering": false,
   "user_envs_cfg": false
  },
  "toc": {
   "base_numbering": 1,
   "nav_menu": {},
   "number_sections": true,
   "sideBar": true,
   "skip_h1_title": true,
   "title_cell": "Table of Contents",
   "title_sidebar": "Contents",
   "toc_cell": false,
   "toc_position": {
    "height": "calc(100% - 180px)",
    "left": "10px",
    "top": "150px",
    "width": "165px"
   },
   "toc_section_display": true,
   "toc_window_display": true
  },
  "varInspector": {
   "cols": {
    "lenName": 16,
    "lenType": 16,
    "lenVar": 40
   },
   "kernels_config": {
    "python": {
     "delete_cmd_postfix": "",
     "delete_cmd_prefix": "del ",
     "library": "var_list.py",
     "varRefreshCmd": "print(var_dic_list())"
    },
    "r": {
     "delete_cmd_postfix": ") ",
     "delete_cmd_prefix": "rm(",
     "library": "var_list.r",
     "varRefreshCmd": "cat(var_dic_list()) "
    }
   },
   "types_to_exclude": [
    "module",
    "function",
    "builtin_function_or_method",
    "instance",
    "_Feature"
   ],
   "window_display": false
  }
 },
 "nbformat": 4,
 "nbformat_minor": 1
}
