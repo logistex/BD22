{
 "cells": [
  {
   "cell_type": "markdown",
   "id": "4a552aee",
   "metadata": {
    "slideshow": {
     "slide_type": "slide"
    }
   },
   "source": [
    "2022년도 사회맞춤형 교육과정 설명회\n",
    "===========================\n",
    "\n",
    "![t_5447708](https://user-images.githubusercontent.com/10287629/142754855-157a6348-5411-44a9-882d-ba431cc38d83.jpg)\n",
    "\n",
    "<div style=\"page-break-after: always;\"></div> "
   ]
  },
  {
   "cell_type": "markdown",
   "id": "15487cdd",
   "metadata": {
    "slideshow": {
     "slide_type": "slide"
    }
   },
   "source": [
    "## 사회맞춤형 교육의 이해\n",
    "\n",
    "![사맞춤 비전](https://user-images.githubusercontent.com/10287629/142717588-0a3fb376-aed1-4dbc-98d0-ed59569d60af.png)\n",
    "\n",
    "<div style=\"page-break-after: always;\"></div> "
   ]
  },
  {
   "cell_type": "markdown",
   "id": "ab57d196",
   "metadata": {
    "slideshow": {
     "slide_type": "slide"
    }
   },
   "source": [
    "## 사회맞춤형 교육의 취지 \n",
    "\n",
    "- 산업체가 요구하는 핵심 역량을 맞춤형 교육으로 이수하고 취업 연계\n",
    "- 산업체는 채용의 분야/조건/인원을 명시하여 학과와 약정 체결\n",
    "- 산업체가 학과와 교육과정 공동 설계 및 운영 참여  \n",
    "- 취업률 제고 및 취업의 품질을 개선"
   ]
  },
  {
   "cell_type": "markdown",
   "id": "6d4db9d9",
   "metadata": {
    "slideshow": {
     "slide_type": "slide"
    }
   },
   "source": [
    "## 참여 기업의 약정 사항\n",
    "\n",
    "- 적정한 수준으로 과정을 이수한 학생을  \n",
    "  우선적으로 채용하기로 약정\n",
    "- 입도선매(立稻先賣):\"논에 서 있는 벼를 미리 판다.\"\n",
    "  - 학과 교수에 대한 신뢰\n",
    "  - 학과 교육에 대한 신뢰\n",
    "  - 학과 선배에 대한 신뢰\n",
    "  \n",
    "<div style=\"page-break-after: always;\"></div>   "
   ]
  },
  {
   "cell_type": "markdown",
   "id": "8ffbe31b",
   "metadata": {
    "slideshow": {
     "slide_type": "slide"
    }
   },
   "source": [
    "## 2021학년도 실적\n",
    "\n",
    "![2_company_list](https://user-images.githubusercontent.com/10287629/129842039-8084419b-b5ee-4569-933e-891c8facae13.png)"
   ]
  },
  {
   "cell_type": "markdown",
   "id": "a2305ca2",
   "metadata": {
    "slideshow": {
     "slide_type": "slide"
    }
   },
   "source": [
    "![협약업체사진모음](https://user-images.githubusercontent.com/10287629/142717729-a20bca63-3137-41c2-8dff-091b4b712b7a.png)\n",
    "\n",
    "<div style=\"page-break-after: always;\"></div> "
   ]
  },
  {
   "cell_type": "markdown",
   "id": "2d956d3d",
   "metadata": {
    "slideshow": {
     "slide_type": "slide"
    }
   },
   "source": [
    "- 평균 연봉: 2,841.4 만원 \n",
    "\n",
    "![사맞춤 채용조건](https://user-images.githubusercontent.com/10287629/142717836-bdd5e33b-5235-42ed-93c8-8b273def4e81.png)\n",
    "\n",
    "<div style=\"page-break-after: always;\"></div> "
   ]
  },
  {
   "cell_type": "markdown",
   "id": "bc6d581b",
   "metadata": {
    "slideshow": {
     "slide_type": "slide"
    }
   },
   "source": [
    "## 2022학년도 운영 계획\n",
    "\n",
    "- 2022학년도 산업체 참여 자격\n",
    "    - 인원 규모: 상시근로자 5인 이상\n",
    "    - 신용 등급: B 등급 이상\n",
    "    - 우대 인증: 정부 인증, 지자체 인증, 우수기업 인증\n",
    "- 2022학년도 학생 지원 자격\n",
    "    - 한양여자대학교 스마트IT과 및 소프트웨어융합과 졸업 예정자\n",
    "    - 취업에 대한 의지가 확실하며, 사회맞춤형 교육과정을 성실하게 이수하려는 자\n",
    "    - 4개 학기 평균 평점 3.0 이상이거나 또는 직전 학기(2학년 2학기) 평점 3.5 이상인 자\n",
    "    - 성적 기준에 미달하더라도 지도교수 추천을 통하여 지원 가능함\n",
    "    - 고용보험 가입자나 개인사업자로 등록되어 있으면 지원 불가함  \n",
    "      (고용보험 가입자는 연수 시작 전 고용보험 해지 필수)"
   ]
  },
  {
   "cell_type": "markdown",
   "id": "2ff52cd5",
   "metadata": {
    "slideshow": {
     "slide_type": "slide"
    }
   },
   "source": [
    "- **데이터 과학** 사회맞춤형 교육 과정\n",
    "    ![사맞춤 과정1](https://user-images.githubusercontent.com/10287629/144340888-b37dce13-115f-4fda-be11-754345fbfcab.png)\n",
    "    \n",
    "<div style=\"page-break-after: always;\"></div>     "
   ]
  },
  {
   "cell_type": "markdown",
   "id": "dd7e008d",
   "metadata": {
    "slideshow": {
     "slide_type": "slide"
    }
   },
   "source": [
    "- 운영 방안\n",
    "    - **빅데이터과에서 개설**하고 IT 계열 학과 졸업예정자를 대상으로 운영\n",
    "      - 소속 학과 3학년 교육 과정 대신 **데이터 과학 사회맞춤형 교육 과정**을 이수\n",
    "      - 소속 학과 졸업 작품은 사회맞춤형 과정의 캡스톤 디자인 작품으로 대체\n",
    "    - 사회맞춤형 지원 학생에 대한 선발\n",
    "      - 서류 전형 (성적 및 소개서/지원서 평가)\n",
    "      - 면접 전형 (산업체 인사들로 면접 위원단 구성)\n",
    "      - 30명 수준으로 별도 학급 편성\n",
    "    - 공동 선발 및 운영\n",
    "      - 학생선발 과정에 산업체 인사 참여\n",
    "      - 교육과정 설계에 산업체 인사 참여\n",
    "      - 교육과정 운영에 산업체 인사 참여\n",
    "    - 선택적 과목 수강 불가능\n",
    "      - 정부 및 대학의 지원금으로 진행되는 교육 과정으로서  \n",
    "        과정 전체에 참여한다는 전제 하에 자금이 지원되어 운영되는 교육 과정\n",
    "      - 산업체와 공동 설계한 교육 과정으로서  \n",
    "        과정 전체를 수료한다는 전제 하에 채용을 약정하여 운영되는 교육 과정    \n",
    "        \n",
    "<div style=\"page-break-after: always;\"></div>         "
   ]
  },
  {
   "cell_type": "markdown",
   "id": "bef091b3",
   "metadata": {
    "slideshow": {
     "slide_type": "slide"
    }
   },
   "source": [
    "- 취업 탐색 지원\n",
    "  - 취업 의식 고취 특강 \n",
    "  - 취업 불안감 해소 상담\n",
    "  - 취업 대상 업체 소개 특강\n",
    "  - 취업 목표 업체 설정 지도\n",
    "  - 취업 준비 상황 점검 및 상담\n",
    "- 취업 성공 지원\n",
    "  - 현장 실습 지원 장학금\n",
    "  - 취업 성공 선배의 경험 공유\n",
    "  - 취업 성공 요인 특강\n",
    "  - 입사지원서 작성 특강 및 개별 지도\n",
    "  - 기술/인성 모의 면접 및 보완점 지도\n",
    "  - 취업 준비 상황 점검 및 개별 지도"
   ]
  },
  {
   "cell_type": "markdown",
   "id": "357d975c",
   "metadata": {
    "slideshow": {
     "slide_type": "slide"
    }
   },
   "source": [
    "- 캡스톤디자인 지원\n",
    "  - 산업체 전문가 직접 강의 담당\n",
    "  - 산업체 전문가 멘토링 지원\n",
    "  - 경진대회 개최 및 장학금 시상\n",
    "  - 공모전 참여 지도 및 장려금 지원\n",
    "- 대면 및 실시간 줌 수업 적극 확대\n",
    "  - 녹화 동영상 수업은 지양\n",
    "  - 대면 또는 실시간 줌 수업 원칙 \n",
    "  - 코로나 방역 지침을 준수하는 범위에서 시행\n",
    "  \n",
    "<div style=\"page-break-after: always;\"></div>   "
   ]
  },
  {
   "cell_type": "markdown",
   "id": "42f368fc",
   "metadata": {
    "slideshow": {
     "slide_type": "slide"
    }
   },
   "source": [
    "- 주요 일정\n",
    "\n",
    "![사맞춤 일정](https://user-images.githubusercontent.com/10287629/144234408-f9f4e629-90fe-4f55-9e0f-0497749a0d8f.png)\n"
   ]
  },
  {
   "cell_type": "markdown",
   "id": "13ed2a0c",
   "metadata": {
    "slideshow": {
     "slide_type": "slide"
    }
   },
   "source": [
    "- 2022학년도 서약서 및 지원서 양식\n",
    "\n",
    "![사맞춤 지원양식2](https://user-images.githubusercontent.com/10287629/144347391-0eaa1dcb-2862-4300-ab6a-ffb4b89f3653.png)\n",
    "\n",
    "<div style=\"page-break-after: always;\"></div> "
   ]
  },
  {
   "cell_type": "markdown",
   "id": "4132e1c2",
   "metadata": {
    "slideshow": {
     "slide_type": "slide"
    }
   },
   "source": [
    "# 결론\n",
    "\n",
    "- 취업의 의의\n",
    "  - 전문대학교 존재의 이유\n",
    "  - 코로나 상황에서 취업의 어려움\n",
    "  - IT 분야에서 취업의 의의\n",
    "    - IT 분야 취업 시장은 경력자 중심 시장\n",
    "    - 사회 초년생으로서는 일단 취업해야 경력 구축이 가능함\n",
    "- 취업 1년 지연의 손해\n",
    "   - 금전적 손해\n",
    "   - 정신적 손해\n",
    "   - 경력적 손해 "
   ]
  },
  {
   "cell_type": "markdown",
   "id": "31069fd5",
   "metadata": {
    "slideshow": {
     "slide_type": "slide"
    }
   },
   "source": [
    "- \"당신이 꼭 지원했으면 좋겠습니다!\" \n",
    "- \"책임지고 취업하도록 돕겠습니다!\""
   ]
  }
 ],
 "metadata": {
  "celltoolbar": "Slideshow",
  "kernelspec": {
   "display_name": "Python 3 (ipykernel)",
   "language": "python",
   "name": "python3"
  },
  "language_info": {
   "codemirror_mode": {
    "name": "ipython",
    "version": 3
   },
   "file_extension": ".py",
   "mimetype": "text/x-python",
   "name": "python",
   "nbconvert_exporter": "python",
   "pygments_lexer": "ipython3",
   "version": "3.8.11"
  },
  "latex_envs": {
   "LaTeX_envs_menu_present": true,
   "autoclose": false,
   "autocomplete": true,
   "bibliofile": "biblio.bib",
   "cite_by": "apalike",
   "current_citInitial": 1,
   "eqLabelWithNumbers": true,
   "eqNumInitial": 1,
   "hotkeys": {
    "equation": "Ctrl-E",
    "itemize": "Ctrl-I"
   },
   "labels_anchors": false,
   "latex_user_defs": false,
   "report_style_numbering": false,
   "user_envs_cfg": false
  },
  "toc": {
   "base_numbering": 1,
   "nav_menu": {},
   "number_sections": true,
   "sideBar": true,
   "skip_h1_title": true,
   "title_cell": "Table of Contents",
   "title_sidebar": "Contents",
   "toc_cell": false,
   "toc_position": {
    "height": "calc(100% - 180px)",
    "left": "10px",
    "top": "150px",
    "width": "174.318px"
   },
   "toc_section_display": true,
   "toc_window_display": true
  },
  "varInspector": {
   "cols": {
    "lenName": 16,
    "lenType": 16,
    "lenVar": 40
   },
   "kernels_config": {
    "python": {
     "delete_cmd_postfix": "",
     "delete_cmd_prefix": "del ",
     "library": "var_list.py",
     "varRefreshCmd": "print(var_dic_list())"
    },
    "r": {
     "delete_cmd_postfix": ") ",
     "delete_cmd_prefix": "rm(",
     "library": "var_list.r",
     "varRefreshCmd": "cat(var_dic_list()) "
    }
   },
   "types_to_exclude": [
    "module",
    "function",
    "builtin_function_or_method",
    "instance",
    "_Feature"
   ],
   "window_display": false
  }
 },
 "nbformat": 4,
 "nbformat_minor": 5
}