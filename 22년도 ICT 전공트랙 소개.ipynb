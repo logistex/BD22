{
 "cells": [
  {
   "cell_type": "markdown",
   "id": "4a552aee",
   "metadata": {
    "slideshow": {
     "slide_type": "slide"
    }
   },
   "source": [
    "2022학년도 ICT 전공트랙 소개\n",
    "=======================\n",
    "\n",
    "![logo1](https://user-images.githubusercontent.com/10287629/144851381-67259549-d107-41ad-8f4e-9770c707a767.png)"
   ]
  },
  {
   "cell_type": "markdown",
   "id": "15487cdd",
   "metadata": {
    "slideshow": {
     "slide_type": "slide"
    }
   },
   "source": [
    "## 1. ICT 전공트랙의 이해\n",
    "\n",
    "![logo](https://user-images.githubusercontent.com/10287629/144851151-7b7c3c7a-e3d2-47e5-ba74-32e206f0031f.png)\n"
   ]
  },
  {
   "cell_type": "markdown",
   "id": "ab57d196",
   "metadata": {
    "slideshow": {
     "slide_type": "slide"
    }
   },
   "source": [
    "## 2. ICT 전공트랙의 취지 \n",
    "\n",
    "- 4차 산업혁명 시대에 필요한 신기술 교육을 위한 별도 교육과정\n",
    "- IT 계열 학과 재학생에게 전공영역 확대의 기회 제공\n",
    "- 최소 12 학점 이수를 통한 이수증 발급\n",
    "\n",
    "<div style=\"page-break-after: always;\"></div> "
   ]
  },
  {
   "cell_type": "markdown",
   "id": "0ec49bad",
   "metadata": {
    "slideshow": {
     "slide_type": "slide"
    }
   },
   "source": [
    "## 3. 운영 경과 및 현황\n",
    "  \n",
    "- 운영 경과\n",
    "  - 1기: 2020학년도 2학기(2학년 2학기) ~ 2021학년도 1학기(3학년 1학기), 40여명 이수 완료\n",
    "  - 2기: 2021학년도 2학기(2학년 2학기) ~ 2022학년도 1학기(3학년 1학기), 40여명 이수 중\n",
    "  - *3기: 2022학년도 1학기(2학년 1학기) ~ 2022학년도 2학기(2학년 2학기), 40여명 예상*\n",
    "- 기존 **빅데이터분석** 과정의 편성 체계 \n",
    "  - 2학년 2학기: 빅데이터분석 기본, 빅데이터분석 실무\n",
    "  - 3학년 1학기: 빅데이터분석 시각화, *빅데이터분석 통계*\n",
    "- 신규 **빅데이터 분석 시각화** 과정의 편성 체계\n",
    "  - 2학년 1학기: 빅데이터분석 기본, 빅데이터분석 실무\n",
    "  - 2학년 2학기: 빅데이터분석 시각화, *빅데이터분석 웹프로그래밍*"
   ]
  },
  {
   "cell_type": "markdown",
   "id": "6d4db9d9",
   "metadata": {
    "slideshow": {
     "slide_type": "slide"
    }
   },
   "source": [
    "## 4. 개편의 취지\n",
    "\n",
    "- 기존 두 학과가 공동 주관하던 과정을 신설 빅데이터과에서 전담\n",
    "- 개편 필요성 \n",
    "  - 과목 중복 문제\n",
    "    - 기존에 편성된 과목은 소프트웨어융합과에는 개설되지 않은 과목임\n",
    "    - 그러나 스마트IT과 및 빅데이터과에는 일부 중복 개설되어 있는 과목임\n",
    "    - 중복 개설된 학과의 경우,  \n",
    "      소속 학과와 ICT 전공트랙에서 양자택일해야 하는 상황이 발생함 ㅠㅠ\n",
    "    - 더군다나 중복 개설된 과목의 설강 학기가 달라서 혼란이 가중되고 있음\n",
    "  - 사회맞춤형 과정 운영 문제\n",
    "    - 현행은 ICT 전공 트랙이 2학년 2학기에 시작하여 3학년 1학기까지 진행되고 있음  \n",
    "    - 3학년 1학기부터 시작하는 사회맞춤형 과정과 기간이 겹치게 되는 문제를 해결해야 함\n",
    "  - 선수과목 문제 \n",
    "    - 데이터시각화 과목에서 시각화 결과를 웹으로 배포하는 내용을 강의에 포함해야 함  \n",
    "    - 파이썬 웹 개발 과목을 이수하지 못한 학생들이 있어 문제가 됨\n",
    "    \n",
    "<div style=\"page-break-after: always;\"></div>   "
   ]
  },
  {
   "cell_type": "markdown",
   "id": "213607ee",
   "metadata": {
    "slideshow": {
     "slide_type": "slide"
    }
   },
   "source": [
    "## 5. 빅데이터 분석 시각화 교육과정\n",
    "\n",
    "![curri](https://user-images.githubusercontent.com/10287629/144855572-75b3c432-b135-44d3-8580-7d916b210735.png)\n"
   ]
  },
  {
   "cell_type": "markdown",
   "id": "7d739e44",
   "metadata": {
    "slideshow": {
     "slide_type": "slide"
    }
   },
   "source": [
    "## 6. 빅데이터 분석 시각화 교과목\n",
    "\n",
    "![sylllabus](https://user-images.githubusercontent.com/10287629/144855563-492505ff-d812-4a52-83c9-ced6568a8a69.png)\n",
    "  "
   ]
  },
  {
   "cell_type": "markdown",
   "id": "4132e1c2",
   "metadata": {
    "slideshow": {
     "slide_type": "slide"
    }
   },
   "source": [
    "## 7. 결론\n",
    "\n",
    "- 2학년 진급 예정인 학생들에게 홍보 및 권장을 요청\n",
    "- **빅데이터 분석 시각화** ICT 전공트랙과 **데이터 과학** 사회맞춤형 과정의 연계성에 주목\n",
    "- 1월 중순 중에 온라인 설명회 개최 예정\n",
    "- 빅데이터과 학생들이 수강 가능한 ICT 전공 트랙의 개발을 요청"
   ]
  }
 ],
 "metadata": {
  "celltoolbar": "Slideshow",
  "kernelspec": {
   "display_name": "Python 3 (ipykernel)",
   "language": "python",
   "name": "python3"
  },
  "language_info": {
   "codemirror_mode": {
    "name": "ipython",
    "version": 3
   },
   "file_extension": ".py",
   "mimetype": "text/x-python",
   "name": "python",
   "nbconvert_exporter": "python",
   "pygments_lexer": "ipython3",
   "version": "3.8.11"
  },
  "latex_envs": {
   "LaTeX_envs_menu_present": true,
   "autoclose": false,
   "autocomplete": true,
   "bibliofile": "biblio.bib",
   "cite_by": "apalike",
   "current_citInitial": 1,
   "eqLabelWithNumbers": true,
   "eqNumInitial": 1,
   "hotkeys": {
    "equation": "Ctrl-E",
    "itemize": "Ctrl-I"
   },
   "labels_anchors": false,
   "latex_user_defs": false,
   "report_style_numbering": false,
   "user_envs_cfg": false
  },
  "toc": {
   "base_numbering": 1,
   "nav_menu": {},
   "number_sections": false,
   "sideBar": true,
   "skip_h1_title": true,
   "title_cell": "Table of Contents",
   "title_sidebar": "Contents",
   "toc_cell": false,
   "toc_position": {
    "height": "calc(100% - 180px)",
    "left": "10px",
    "top": "150px",
    "width": "174.318px"
   },
   "toc_section_display": true,
   "toc_window_display": true
  },
  "varInspector": {
   "cols": {
    "lenName": 16,
    "lenType": 16,
    "lenVar": 40
   },
   "kernels_config": {
    "python": {
     "delete_cmd_postfix": "",
     "delete_cmd_prefix": "del ",
     "library": "var_list.py",
     "varRefreshCmd": "print(var_dic_list())"
    },
    "r": {
     "delete_cmd_postfix": ") ",
     "delete_cmd_prefix": "rm(",
     "library": "var_list.r",
     "varRefreshCmd": "cat(var_dic_list()) "
    }
   },
   "types_to_exclude": [
    "module",
    "function",
    "builtin_function_or_method",
    "instance",
    "_Feature"
   ],
   "window_display": false
  }
 },
 "nbformat": 4,
 "nbformat_minor": 5
}
